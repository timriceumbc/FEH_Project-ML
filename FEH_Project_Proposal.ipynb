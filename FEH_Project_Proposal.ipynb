{
 "cells": [
  {
   "cell_type": "markdown",
   "metadata": {},
   "source": [
    "# CMSC478 Machine Learning\n",
    "\n",
    "# Project Proposal"
   ]
  },
  {
   "cell_type": "markdown",
   "metadata": {},
   "source": [
    "## Project Title"
   ]
  },
  {
   "cell_type": "markdown",
   "metadata": {},
   "source": [
    "Predicting Spending on \"Fire Emblem: Heroes\" Based on Interview Data\n",
    "\n",
    "Author:\n",
    "Tim Rice\n",
    "\n",
    "Student ID: UX75258"
   ]
  },
  {
   "cell_type": "markdown",
   "metadata": {},
   "source": [
    "## Problem Description\n",
    "\n",
    "The goal of this project is to predict the amount of money players will spend on the game \"Fire Emblem: Heroes\" (FEH) based on a survey of over 4,500 people who played the game. Due to the structure of the survey this will actually be a classification problem rather than regression, because the survey separated money spent into different ranges of money which will each serve as a class for classification."
   ]
  },
  {
   "cell_type": "markdown",
   "metadata": {},
   "source": [
    "## Motivation\n",
    "\n",
    "FEH is a mobile game that uses the \"gacha\" model, a model in which the game is free to download but players have the option of making in game transactions that cost real money. The term gacha comes from gachapon, which refers to machines that give a random reward for some amount of money. In a gacha game, in game currency is exchanged for random rewards, and while in-game currency can be earned for free in game, players are allowed to purchase more in exchange for real money. Because the amount of free currency is limited, some players spend exorbinant amount of money on in-game currency hoping for a reward that they want. This model is often classified as a form of gambling, which many countries ban, however despite anti-gambling laws many gacha games still find their way into the market and have become espescially prominent on the mobile platform. The gacha model relies on the extremely small portion of players who spend extremely large amounts of money on the game in hopes off getting what they want. These players may come from different finanical situations, but all exhibit the same dangerous gambling behavior that the gacha model preys off of. By surveying people who play these games, you could use a machine learning approach to detect players that may be at risk for such behavior and try to intervene before potenially bad circumstances arise."
   ]
  },
  {
   "cell_type": "markdown",
   "metadata": {},
   "source": [
    "## Dataset\n",
    "\n",
    "Min 1000 records (1 student), max 100MB<br>\n",
    "\n",
    "Link to dataset source: https://www.kaggle.com/natalieytan/fire-emblem-heroes-survey/version/1\n",
    "\n",
    "Dataset description: The data is from an interview via google forms for players of the mobile game FEH. It contains 104 features that all consist of a discrete number of unique answers. The target feature will be \"How much money have you spent on the game?\" and the remaining features will be used to predict. Because many of the features contain text entried, but they are selected from a list, the choices will be converted to numeric identifiers for computation."
   ]
  },
  {
   "cell_type": "markdown",
   "metadata": {},
   "source": [
    "## <font color=\"red\"> Required Coding"
   ]
  },
  {
   "cell_type": "code",
   "execution_count": 1,
   "metadata": {},
   "outputs": [
    {
     "data": {
      "text/plain": [
       "(4677, 104)"
      ]
     },
     "execution_count": 1,
     "metadata": {},
     "output_type": "execute_result"
    }
   ],
   "source": [
    "# Import necessary Python, sklearn and/or tensorflow/keras modules\n",
    "import numpy as np\n",
    "import sklearn\n",
    "import pandas\n",
    "import matplotlib\n",
    "\n",
    "# Load the data\n",
    "df = pandas.read_csv('FEHSurvey8All.csv')\n",
    "\n",
    "# Get data shape via built-in methods of sklearn, pandas or tensorflow/keras\n",
    "df.shape"
   ]
  },
  {
   "cell_type": "code",
   "execution_count": 2,
   "metadata": {},
   "outputs": [
    {
     "name": "stdout",
     "output_type": "stream",
     "text": [
      "{'19 – 21 years old': 1, '16 – 18 years old': 2, '22 – 24 years old': 3, '12 – 15 years old': 4, '25 – 30 years old': 5, nan: 6, 'Prefer not to answer': 7, '31 – 40 years old': 8, '41 – 50 years old': 9, '51 – 60 years old': 10, '61+ years old': 11, 'Under 12 years old': 12}\n",
      "3.0\n",
      "(4677, 104)\n"
     ]
    }
   ],
   "source": [
    "#code for building dictionary of features and answers and converting data to ints\n",
    "\n",
    "featureDict = {}\n",
    "\n",
    "answerDict = {}\n",
    "featureName = \"\"\n",
    "\n",
    "data = df.values\n",
    "dataNums = np.zeros(data.shape)\n",
    "\n",
    "for col in range(0, data.shape[1]):\n",
    "    featureName = df.columns[col]\n",
    "    n = 1\n",
    "    \n",
    "    for row in range(0,data.shape[0]):\n",
    "        value = data[row][col]\n",
    "        if(value not in answerDict):\n",
    "            answerDict.update({value:n})\n",
    "            n = n + 1\n",
    "        dataNums[row][col] = answerDict[value]\n",
    "            \n",
    "    featureDict.update({featureName:answerDict.copy()})\n",
    "    answerDict = {}\n",
    "\n",
    "print(featureDict[\"What is your age?\"])\n",
    "print(dataNums[4][3])\n",
    "print(dataNums.shape)"
   ]
  },
  {
   "cell_type": "markdown",
   "metadata": {},
   "source": [
    "## Methods\n",
    "\n",
    "I plan to use random forest, SVM, and neural network models for this assignment."
   ]
  },
  {
   "cell_type": "markdown",
   "metadata": {},
   "source": [
    "## How to Submit and Due Date"
   ]
  },
  {
   "cell_type": "markdown",
   "metadata": {},
   "source": [
    "Name your notebook ```Lastname-Proposal.ipynb```. Submit the notebook file with your dataset file in a zip file named EXACTLY as `Lastname-Proposal.zip` using the ```Project Proposal``` link on Blackboard. For groups, only one submission is required.\n",
    "\n",
    "<font color=red><b>Project Proposal Due Date: Wednesday Nov 20th 11:59PM.</b></font>"
   ]
  }
 ],
 "metadata": {
  "kernelspec": {
   "display_name": "Python 3",
   "language": "python",
   "name": "python3"
  },
  "language_info": {
   "codemirror_mode": {
    "name": "ipython",
    "version": 3
   },
   "file_extension": ".py",
   "mimetype": "text/x-python",
   "name": "python",
   "nbconvert_exporter": "python",
   "pygments_lexer": "ipython3",
   "version": "3.7.5"
  }
 },
 "nbformat": 4,
 "nbformat_minor": 2
}
