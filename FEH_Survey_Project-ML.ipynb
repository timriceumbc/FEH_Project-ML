{
 "cells": [
  {
   "cell_type": "markdown",
   "metadata": {},
   "source": [
    "# CMSC478 Machine Learning\n",
    "\n",
    "# Project Final Submission"
   ]
  },
  {
   "cell_type": "markdown",
   "metadata": {},
   "source": [
    "## Project Title"
   ]
  },
  {
   "cell_type": "markdown",
   "metadata": {},
   "source": [
    "Tim Rice\n",
    "UX75258"
   ]
  },
  {
   "cell_type": "markdown",
   "metadata": {},
   "source": [
    "## Problem Description\n",
    "\n",
    "This project is a multi-class classification problem because the target feature is different ranges of money spent.\n",
    "\n",
    "\n",
    "The goal of this project is to predict the amount of money players will spend on the game \"Fire Emblem: Heroes\" (FEH) based on a survey of over 4,500 people who played the game. Due to the structure of the survey this will actually be a classification problem rather than regression, because the survey separated money spent into different ranges of money which will each serve as a class for classification."
   ]
  },
  {
   "cell_type": "markdown",
   "metadata": {},
   "source": [
    "## Motivation\n",
    "\n",
    "FEH is a mobile game that uses the \"gacha\" model, a model in which the game is free to download but players have the option of making in game transactions that cost real money. The term gacha comes from gachapon, which refers to machines that give a random reward for some amount of money. In a gacha game, in game currency is exchanged for random rewards, and while in-game currency can be earned for free in game, players are allowed to purchase more in exchange for real money. Because the amount of free currency is limited, some players spend exorbinant amount of money on in-game currency hoping for a reward that they want. This model is often classified as a form of gambling, which many countries ban, however despite anti-gambling laws many gacha games still find their way into the market and have become espescially prominent on the mobile platform. The gacha model relies on the extremely small portion of players who spend extremely large amounts of money on the game in hopes off getting what they want. These players may come from different finanical situations, but all exhibit the same dangerous gambling behavior that the gacha model preys off of. By surveying people who play these games, you could use a machine learning approach to detect players that may be at risk for such behavior and try to intervene before potenially bad circumstances arise."
   ]
  },
  {
   "cell_type": "markdown",
   "metadata": {},
   "source": [
    "## Dataset\n",
    "\n",
    " - Link to dataset source: https://www.kaggle.com/natalieytan/fire-emblem-heroes-survey/version/1\n",
    "\n",
    "- <b>Label/target</b> description - The target feature will be \"How much money have you spent on the game?\". It is a set of ranges that will be given a numeric identifier and used as the target of a multi-class classification problem.\n",
    "\n",
    "\n",
    "- Feature description: Each Feature in this dataset is an answer to a question in a survey. There are 104 features in the dataset so I will not describe each one. The first feature is a timestamp and will be discarded. The rest are survey questions. The questions consist of either multiple choice or numerical answer questions, and as such can all be relatively easily transformed into a numeric representation. Multiple choice questions will be transformed by giving each choice a numeric identifier.\n",
    "\n"
   ]
  },
  {
   "cell_type": "markdown",
   "metadata": {},
   "source": [
    "- Include the code for loading, showing the data head (if loaded with pandas) and reporting the data shape via sklearn, pandas or tensorflow in the following cell. \n",
    "\n",
    "\n",
    "- For image classification or special non-pandas datasets, show at least one sample of the data.\n",
    "\n",
    "\n",
    "- <b>Your data should be loaded error-free (otherwise your whole project gets zero credit). You should attach the data to your final project submission in a zip file.</b> If your dataset is too large and can't be uploaded in Blackboard, you should email the dataset to the instructor BEFORE the deadline!"
   ]
  },
  {
   "cell_type": "markdown",
   "metadata": {},
   "source": [
    "## <font color=\"red\"> Required Coding"
   ]
  },
  {
   "cell_type": "code",
   "execution_count": 1,
   "metadata": {},
   "outputs": [
    {
     "data": {
      "text/plain": [
       "(4677, 104)"
      ]
     },
     "execution_count": 1,
     "metadata": {},
     "output_type": "execute_result"
    }
   ],
   "source": [
    "# Import necessary Python, sklearn and/or tensorflow/keras modules for loading the dataset\n",
    "import numpy\n",
    "from sklearn.model_selection import train_test_split\n",
    "import sklearn.metrics\n",
    "import pandas\n",
    "import matplotlib.pyplot as plt\n",
    "import tensorflow\n",
    "\n",
    "# Load the data\n",
    "df = pandas.read_csv('FEHSurvey8All.csv')\n",
    "\n",
    "# Print data shape via built-in methods of sklearn, pandas or tensorflow/keras (or other modules)\n",
    "df.shape"
   ]
  },
  {
   "cell_type": "code",
   "execution_count": 2,
   "metadata": {},
   "outputs": [
    {
     "data": {
      "text/plain": [
       "<bound method NDFrame.head of                 Timestamp  \\\n",
       "0      11/13/2017 8:20:14   \n",
       "1      11/13/2017 8:20:42   \n",
       "2      11/13/2017 8:20:58   \n",
       "3      11/13/2017 8:21:05   \n",
       "4      11/13/2017 8:22:59   \n",
       "...                   ...   \n",
       "4672  11/16/2017 12:10:05   \n",
       "4673  11/16/2017 12:19:16   \n",
       "4674  11/16/2017 13:16:43   \n",
       "4675  11/16/2017 14:28:33   \n",
       "4676  11/16/2017 17:32:39   \n",
       "\n",
       "     When did you begin playing your main account in Fire Emblem: Heroes?  \\\n",
       "0                                                   May                     \n",
       "1                      Within 1 Week of Release (Feb 2)                     \n",
       "2                      Within 1 Week of Release (Feb 2)                     \n",
       "3                      Within 1 Week of Release (Feb 2)                     \n",
       "4                         February (After Release Week)                     \n",
       "...                                                 ...                     \n",
       "4672                   Within 1 Week of Release (Feb 2)                     \n",
       "4673                   Within 1 Week of Release (Feb 2)                     \n",
       "4674                   Within 1 Week of Release (Feb 2)                     \n",
       "4675                   Within 1 Week of Release (Feb 2)                     \n",
       "4676                   Within 1 Week of Release (Feb 2)                     \n",
       "\n",
       "     How much money have you spent on the game?  What is your age?  \\\n",
       "0                                   $201 - $400  19 – 21 years old   \n",
       "1                                      $1 - $50  16 – 18 years old   \n",
       "2                                      $1 - $50  16 – 18 years old   \n",
       "3                                   $401 - $600  16 – 18 years old   \n",
       "4                                   $401 - $600  22 – 24 years old   \n",
       "...                                         ...                ...   \n",
       "4672                                 None (F2P)  12 – 15 years old   \n",
       "4673                                 $51 - $100  19 – 21 years old   \n",
       "4674                                $101 - $200  22 – 24 years old   \n",
       "4675                                   $1 - $50  25 – 30 years old   \n",
       "4676                                 None (F2P)  19 – 21 years old   \n",
       "\n",
       "     What is your gender?  \\\n",
       "0                  Female   \n",
       "1                    Male   \n",
       "2                    Male   \n",
       "3                    Male   \n",
       "4                  Female   \n",
       "...                   ...   \n",
       "4672                 Male   \n",
       "4673                 Male   \n",
       "4674                 Male   \n",
       "4675                 Male   \n",
       "4676                 Male   \n",
       "\n",
       "     What is your current Arena tier? (For the season beginning Nov 14th)  \\\n",
       "0                                                    18                     \n",
       "1                                                    20                     \n",
       "2                                                    20                     \n",
       "3                                                    19                     \n",
       "4                                                    20                     \n",
       "...                                                 ...                     \n",
       "4672                                                 15                     \n",
       "4673                                                 17                     \n",
       "4674                                                 19                     \n",
       "4675                                                 19                     \n",
       "4676                                                 20                     \n",
       "\n",
       "     Which of the following banners have you used orbs on at least once? Select all that apply.  \\\n",
       "0     World of Holy War (Deirdre, Tailtiu, Sigurd), ...                                           \n",
       "1     World of Holy War (Deirdre, Tailtiu, Sigurd), ...                                           \n",
       "2     World of Holy War (Deirdre, Tailtiu, Sigurd), ...                                           \n",
       "3     World of Holy War (Deirdre, Tailtiu, Sigurd), ...                                           \n",
       "4     World of Holy War (Deirdre, Tailtiu, Sigurd), ...                                           \n",
       "...                                                 ...                                           \n",
       "4672  World of Holy War (Deirdre, Tailtiu, Sigurd), ...                                           \n",
       "4673  World of Holy War (Deirdre, Tailtiu, Sigurd), ...                                           \n",
       "4674  World of Holy War (Deirdre, Tailtiu, Sigurd), ...                                           \n",
       "4675  Minerva and Maria's Battle (Minerva, Maria, Pa...                                           \n",
       "4676  Minerva and Maria's Battle (Minerva, Maria, Pa...                                           \n",
       "\n",
       "     Which of the following banners did you use the most orbs on?  \\\n",
       "0          World of Holy War (Deirdre, Tailtiu, Sigurd)             \n",
       "1     Trick or Defeat (Sakura (ToD), Jakob (ToD), He...             \n",
       "2          World of Holy War (Deirdre, Tailtiu, Sigurd)             \n",
       "3          World of Holy War (Deirdre, Tailtiu, Sigurd)             \n",
       "4      Heroes with Death Blow (Delthea, Elincia, Klein)             \n",
       "...                                                 ...             \n",
       "4672  Trick or Defeat (Sakura (ToD), Jakob (ToD), He...             \n",
       "4673  Trick or Defeat (Sakura (ToD), Jakob (ToD), He...             \n",
       "4674  Trick or Defeat (Sakura (ToD), Jakob (ToD), He...             \n",
       "4675   Heroes with Death Blow (Delthea, Elincia, Klein)             \n",
       "4676  Trick or Defeat (Sakura (ToD), Jakob (ToD), He...             \n",
       "\n",
       "     What is/was your favorite banner out of the options below?  \\\n",
       "0                                                   NaN           \n",
       "1     Trick or Defeat (Sakura (ToD), Jakob (ToD), He...           \n",
       "2          World of Holy War (Deirdre, Tailtiu, Sigurd)           \n",
       "3     Trick or Defeat (Sakura (ToD), Jakob (ToD), He...           \n",
       "4      Heroes with Death Blow (Delthea, Elincia, Klein)           \n",
       "...                                                 ...           \n",
       "4672  Trick or Defeat (Sakura (ToD), Jakob (ToD), He...           \n",
       "4673       World of Holy War (Deirdre, Tailtiu, Sigurd)           \n",
       "4674  Trick or Defeat (Sakura (ToD), Jakob (ToD), He...           \n",
       "4675   Heroes with Death Blow (Delthea, Elincia, Klein)           \n",
       "4676  Genealogy of Light Tempest Trials (Ayra, Eldig...           \n",
       "\n",
       "     Did you spend money on Orbs specifically for the Trick or Defeat banner?  \\\n",
       "0                                                    No                         \n",
       "1                                                    No                         \n",
       "2                                                    No                         \n",
       "3                                                    No                         \n",
       "4                                                    No                         \n",
       "...                                                 ...                         \n",
       "4672                                                 No                         \n",
       "4673                                                Yes                         \n",
       "4674                                                 No                         \n",
       "4675                                                 No                         \n",
       "4676                                                 No                         \n",
       "\n",
       "      ... Who is your MOST WANTED hero? Who is the most OVERRATED hero?  \\\n",
       "0     ...                           NaN                             NaN   \n",
       "1     ...                       Tailtiu                            Ayra   \n",
       "2     ...                          Ayra                          Xander   \n",
       "3     ...       Corrin (Nohrian Summer)                          Hector   \n",
       "4     ...                          Seth                            Ayra   \n",
       "...   ...                           ...                             ...   \n",
       "4672  ...                        Celica                     Lyn (Brave)   \n",
       "4673  ...                        Hector              Inigo (Performing)   \n",
       "4674  ...                         Sonya              Inigo (Performing)   \n",
       "4675  ...                         Elise                     Lyn (Brave)   \n",
       "4676  ...                        Celica                            Ayra   \n",
       "\n",
       "     Who is the most UNDERRATED hero?  \\\n",
       "0                                 NaN   \n",
       "1                                Boey   \n",
       "2                               Arvis   \n",
       "3                            Nephenee   \n",
       "4                               Oscar   \n",
       "...                               ...   \n",
       "4672                            Chrom   \n",
       "4673                           Seliph   \n",
       "4674                             Nowi   \n",
       "4675                         Clarisse   \n",
       "4676                          Cecilia   \n",
       "\n",
       "     Intelligent Systems comes to you with the offer to make a winter holidays version of any hero you choose. Who do you pick?  \\\n",
       "0                                                 Chrom                                                                           \n",
       "1                                                   Mae                                                                           \n",
       "2                                                 Karel                                                                           \n",
       "3                                             Robin (M)                                                                           \n",
       "4                                 (None / I don't know)                                                                           \n",
       "...                                                 ...                                                                           \n",
       "4672                                             Hector                                                                           \n",
       "4673                                             Hector                                                                           \n",
       "4674                                            Camilla                                                                           \n",
       "4675                                               Nino                                                                           \n",
       "4676                                             Bartre                                                                           \n",
       "\n",
       "     Rate your feelings on the following statements: [Distant Counter and Close Counter should be Sacred Seals]  \\\n",
       "0                                                   NaN                                                           \n",
       "1                                        Strongly Agree                                                           \n",
       "2                                              Disagree                                                           \n",
       "3                                     Strongly Disagree                                                           \n",
       "4                                              Disagree                                                           \n",
       "...                                                 ...                                                           \n",
       "4672                                  Strongly Disagree                                                           \n",
       "4673                                     Strongly Agree                                                           \n",
       "4674                                     Strongly Agree                                                           \n",
       "4675                                           Disagree                                                           \n",
       "4676                                  Strongly Disagree                                                           \n",
       "\n",
       "     Rate your feelings on the following statements: [I was upset by the circumstances of Ayra's release]  \\\n",
       "0                                                   NaN                                                     \n",
       "1                                              Disagree                                                     \n",
       "2                                                 Agree                                                     \n",
       "3                                        Strongly Agree                                                     \n",
       "4                                                 Agree                                                     \n",
       "...                                                 ...                                                     \n",
       "4672                                     Strongly Agree                                                     \n",
       "4673                                              Agree                                                     \n",
       "4674                                              Agree                                                     \n",
       "4675                                              Agree                                                     \n",
       "4676                                            Neutral                                                     \n",
       "\n",
       "     Rate your feelings on the following statements: [More healers/staff users should be added to the game]  \\\n",
       "0                                                   NaN                                                       \n",
       "1                                               Neutral                                                       \n",
       "2                                                 Agree                                                       \n",
       "3                                               Neutral                                                       \n",
       "4                                              Disagree                                                       \n",
       "...                                                 ...                                                       \n",
       "4672                                            Neutral                                                       \n",
       "4673                                            Neutral                                                       \n",
       "4674                                           Disagree                                                       \n",
       "4675                                              Agree                                                       \n",
       "4676                                            Neutral                                                       \n",
       "\n",
       "     Rate your feelings on the following statements: [I care about which character wins the Voting Gauntlets]  \\\n",
       "0                                                   NaN                                                         \n",
       "1                                              Disagree                                                         \n",
       "2                                                 Agree                                                         \n",
       "3                                                 Agree                                                         \n",
       "4                                              Disagree                                                         \n",
       "...                                                 ...                                                         \n",
       "4672                                              Agree                                                         \n",
       "4673                                              Agree                                                         \n",
       "4674                                  Strongly Disagree                                                         \n",
       "4675                                              Agree                                                         \n",
       "4676                                            Neutral                                                         \n",
       "\n",
       "     Rate your feelings on the following statements: [Arden has good art]  \\\n",
       "0                                                   NaN                     \n",
       "1                                        Strongly Agree                     \n",
       "2                                        Strongly Agree                     \n",
       "3                                              Disagree                     \n",
       "4                                               Neutral                     \n",
       "...                                                 ...                     \n",
       "4672                                     Strongly Agree                     \n",
       "4673                                     Strongly Agree                     \n",
       "4674                                  Strongly Disagree                     \n",
       "4675                                              Agree                     \n",
       "4676                                     Strongly Agree                     \n",
       "\n",
       "     Rate your feelings on the following statements: [I liked Henry before he was cool]  \n",
       "0                                                   NaN                                  \n",
       "1                                               Neutral                                  \n",
       "2                                              Disagree                                  \n",
       "3                                        Strongly Agree                                  \n",
       "4                                              Disagree                                  \n",
       "...                                                 ...                                  \n",
       "4672                                     Strongly Agree                                  \n",
       "4673                                            Neutral                                  \n",
       "4674                                           Disagree                                  \n",
       "4675                                              Agree                                  \n",
       "4676                                  Strongly Disagree                                  \n",
       "\n",
       "[4677 rows x 104 columns]>"
      ]
     },
     "execution_count": 2,
     "metadata": {},
     "output_type": "execute_result"
    }
   ],
   "source": [
    "# Show the data head (if pandas is used)\n",
    "df.head\n",
    "# If the dataset contains images or is non-pandas/non-tabular, show at least one sample of the data"
   ]
  },
  {
   "cell_type": "markdown",
   "metadata": {},
   "source": [
    "## Data Preprocessing"
   ]
  },
  {
   "cell_type": "markdown",
   "metadata": {},
   "source": [
    "List any steps you have taken for preprocessing, such as cleaning, dropping NAs, dropping any redundant/irrelevant column, normalizing/scaling, etc. HERE:\n",
    "\n",
    "- Preprocessing Steps:\n",
    "    1. Dropped \"Timestamp\" feature.\n",
    "    2. Took steps required to convert \"What is your current Arena tier? (For the season beginning Nov 14th)\" to solely numeric data.\n",
    "    3. Converted remaining non-numeric data types into categorical integer data types.\n",
    "<br><br>\n",
    "\n",
    "- Specify the details of data splitting to train/test or cross validation. Mention the ratio for splitting and number of folds for cv.\n",
    " - splitting done using train_test_split with 20% reserved for testing.\n",
    "<br>\n",
    "\n",
    "<b>Notice:</b> Each dataset may or may not need specific preprocessing steps. You should decide which preprocessing steps (if any) is required for your particular dataset."
   ]
  },
  {
   "cell_type": "markdown",
   "metadata": {},
   "source": [
    "## <font color=\"red\"> Required Coding"
   ]
  },
  {
   "cell_type": "code",
   "execution_count": 3,
   "metadata": {},
   "outputs": [
    {
     "name": "stdout",
     "output_type": "stream",
     "text": [
      "(4668, 103)\n",
      "object\n",
      "object\n",
      "object\n",
      "object\n",
      "int32\n",
      "object\n",
      "object\n",
      "object\n",
      "object\n",
      "object\n",
      "object\n",
      "object\n",
      "object\n",
      "object\n",
      "object\n",
      "object\n",
      "object\n",
      "object\n",
      "object\n",
      "object\n",
      "object\n",
      "object\n",
      "object\n",
      "object\n",
      "object\n",
      "float64\n",
      "float64\n",
      "object\n",
      "object\n",
      "object\n",
      "object\n",
      "object\n",
      "object\n",
      "object\n",
      "object\n",
      "object\n",
      "object\n",
      "float64\n",
      "object\n",
      "object\n",
      "object\n",
      "object\n",
      "object\n",
      "object\n",
      "object\n",
      "object\n",
      "object\n",
      "object\n",
      "object\n",
      "object\n",
      "object\n",
      "object\n",
      "object\n",
      "object\n",
      "object\n",
      "object\n",
      "object\n",
      "object\n",
      "object\n",
      "object\n",
      "object\n",
      "object\n",
      "object\n",
      "object\n",
      "object\n",
      "object\n",
      "object\n",
      "object\n",
      "object\n",
      "object\n",
      "object\n",
      "object\n",
      "object\n",
      "object\n",
      "float64\n",
      "object\n",
      "object\n",
      "object\n",
      "object\n",
      "object\n",
      "float64\n",
      "object\n",
      "object\n",
      "object\n",
      "object\n",
      "object\n",
      "object\n",
      "object\n",
      "object\n",
      "object\n",
      "object\n",
      "object\n",
      "object\n",
      "object\n",
      "object\n",
      "object\n",
      "object\n",
      "object\n",
      "object\n",
      "object\n",
      "object\n",
      "object\n",
      "object\n"
     ]
    }
   ],
   "source": [
    "# Data Preprocessing code here\n",
    "\n",
    "# Drop rows that did not answer the target question and drop the timestamp column because it is not good data to \n",
    "# base a prediction on.\n",
    "df.dropna(inplace = True, subset = [\"How much money have you spent on the game?\"])\n",
    "df.drop(inplace = True, columns = [\"Timestamp\"])\n",
    "\n",
    "df.fillna(-1, inplace = True)\n",
    "\n",
    "# Giving one column some special treatment because it should be an ordered list of numbers and not categorized.\n",
    "df[\"What is your current Arena tier? (For the season beginning Nov 14th)\"].replace(\"I don't know\", 0, inplace = True)\n",
    "df[\"What is your current Arena tier? (For the season beginning Nov 14th)\"] = \\\n",
    "    df[\"What is your current Arena tier? (For the season beginning Nov 14th)\"].astype(int)\n",
    "\n",
    "print(df.shape)\n",
    "for n in df.dtypes: print(n)"
   ]
  },
  {
   "cell_type": "code",
   "execution_count": 4,
   "metadata": {},
   "outputs": [
    {
     "name": "stdout",
     "output_type": "stream",
     "text": [
      "97\n",
      "(4668, 103)\n",
      "[[ 1  1  1  1 18  1  1  1  1  1  1  1  1  1  1  1  1  1  1  1  1  1  1  1\n",
      "   1  2  2  1  1  1  1  1  1  1  1  1  1  1  1  1  1  1  1  1  1  1  1  1\n",
      "   1  1  1  1  1  1  1  1  1  1  1  1  1  1  1  1  1  1  1  1  1  1  1  1\n",
      "   1  1  2  1  1  1  1  1  5  1  1  1  1  1  1  1  1  1  1  1  1  1  1  1\n",
      "   1  1  1  1  1  1  1]\n",
      " [ 2  2  2  2 20  2  2  2  1  2  1  1  1  2  2  2  2  2  2  2  2  2  1  1\n",
      "   2  4  2  1  2  2  2  2  2  1  2  2  2  1  2  2  2  2  2  2  2  2  2  2\n",
      "   2  2  2  2  2  2  2  2  2  2  2  2  2  2  2  2  2  2  2  2  2  1  2  2\n",
      "   2  2  5  2  2  2  2  1  5  1  1  1  1  2  2  2  2  2  2  2  2  2  2  2\n",
      "   2  2  2  2  2  2  2]\n",
      " [ 2  2  2  2 20  3  1  3  1  3  2  1  1  3  2  3  3  3  3  3  3  1  2  1\n",
      "   3  4  2  2  1  3  3  1  1  2  1  3  2  2  2  3  3  2  2  2  3  2  2  2\n",
      "   2  2  2  2  2  2  2  2  3  3  2  3  3  2  2  2  2  1  1  1  1  1  2  2\n",
      "   2  2  4  3  3  3  3  2  4  2  1  1  1  1  3  3  3  2  3  3  3  3  3  3\n",
      "   3  3  3  3  3  2  3]\n",
      " [ 2  3  2  2 19  1  1  2  1  4  1  1  1  3  3  3  3  4  2  4  4  2  1  1\n",
      "   4  2  1  1  1  4  1  3  3  2  2  4  2  3  3  4  3  3  2  2  2  2  3  2\n",
      "   2  2  2  2  2  3  2  3  2  3  2  3  3  2  2  2  3  2  1  1  2  1  2  3\n",
      "   1  3  3  4  4  4  4  2  5  1  1  1  1  1  2  4  4  3  3  4  4  4  4  4\n",
      "   4  4  4  2  3  3  4]\n",
      " [ 3  3  3  1 20  4  3  4  1  5  2  1  1  3  3  4  3  3  4  2  3  3  1  2\n",
      "   5  3  3  3  1  5  4  4  2  2  1  5  3  1  3  3  3  3  2  2  4  2  3  2\n",
      "   2  2  2  2  3  3  2  2  2  2  2  2  4  3  3  3  4  1  2  3  2  1  2  2\n",
      "   2  2  4  5  5  4  1  1  4  1  1  1  2  3  3  4  3  3  4  5  5  5  2  5\n",
      "   5  3  3  4  2  4  3]]\n"
     ]
    },
    {
     "data": {
      "text/plain": [
       "dict_items([('$201 - $400', 1), ('$1 - $50', 2), ('$401 - $600', 3), ('$51 - $100', 4), ('$101 - $200', 5), ('None (F2P)', 6), (\"I don't know / don't remember\", 7), ('$601 - $800', 8), ('$3001 - $4000', 9), ('$801 - $1000', 10), ('$1001 - $2000', 11), ('$5000+', 12), ('$2001 - $3000', 13), ('$4001 - $5000', 14)])"
      ]
     },
     "execution_count": 4,
     "metadata": {},
     "output_type": "execute_result"
    }
   ],
   "source": [
    "# Create int lables for non numeric data, leaving all numeric data alone.\n",
    "# Create a dictionary of the mappings for reference later.\n",
    "\n",
    "featureDict = {}\n",
    "\n",
    "answerDict = {}\n",
    "featureName = \"\"\n",
    "\n",
    "data = df.values\n",
    "\n",
    "for col in range(0, data.shape[1]):\n",
    "    if(df.dtypes[col] == \"object\"):\n",
    "        featureName = df.columns[col]\n",
    "        n = 1\n",
    "\n",
    "        for row in range(0,data.shape[0]):\n",
    "            value = data[row][col]\n",
    "            if(value not in answerDict):\n",
    "                answerDict.update({value:n})\n",
    "                n = n + 1\n",
    "            data[row][col] = answerDict[value]\n",
    "\n",
    "        featureDict.update({featureName:answerDict.copy()})\n",
    "        answerDict = {}\n",
    "\n",
    "print(len(featureDict))\n",
    "data = data.astype(int)\n",
    "print(data.shape)\n",
    "print(data[0:5,:])\n",
    "targetLabels = featureDict[\"How much money have you spent on the game?\"]\n",
    "targetLabels.items()"
   ]
  },
  {
   "cell_type": "code",
   "execution_count": 5,
   "metadata": {},
   "outputs": [],
   "source": [
    "# Split to train/test sets code here (if applicable)\n",
    "X = numpy.delete(data, 1, 1)\n",
    "y = data[:,1]\n",
    "X_train, X_test, y_train, y_test = train_test_split(X, y, test_size = .2, random_state = 50)"
   ]
  },
  {
   "cell_type": "markdown",
   "metadata": {},
   "source": [
    "## Methods\n",
    "\n",
    "List your sklearn and tensorflow methods HERE:\n",
    "\n",
    "1- Sklearn Method No.1: SVM\n",
    "\n",
    "2- Sklearn Method No.2: Random Forest\n",
    "\n",
    "3- Tensorflow Method: Sequential Neural Network\n",
    "\n",
    "Individual students need to work with 2 sklearn methods and 1 tensorflow method.\n",
    "\n",
    "Groups should take 2 approaches (both classification and regression) on 1 or 2 datasets, and for each approach (classification/regression) should use 3 methods as described above (6 methods totally).\n",
    "\n",
    "<b>Notice:</b> You should fine-tune at least one hyperparameter of each method by using multiple values (at least 3 different values)."
   ]
  },
  {
   "cell_type": "markdown",
   "metadata": {},
   "source": [
    "## <font color=\"red\"> Required Coding - Groups should add more cell as required"
   ]
  },
  {
   "cell_type": "code",
   "execution_count": 6,
   "metadata": {},
   "outputs": [
    {
     "name": "stdout",
     "output_type": "stream",
     "text": [
      "Accuracy:  0.4282655246252677\n",
      "F1 score:  0.05287015615962984\n"
     ]
    },
    {
     "name": "stderr",
     "output_type": "stream",
     "text": [
      "c:\\users\\trice\\anaconda3\\envs\\tfvenv\\lib\\site-packages\\sklearn\\metrics\\classification.py:1437: UndefinedMetricWarning: F-score is ill-defined and being set to 0.0 in labels with no predicted samples.\n",
      "  'precision', 'predicted', average, warn_for)\n"
     ]
    },
    {
     "data": {
      "text/plain": [
       "array([6, 6, 6, 6, 6, 6, 6, 6, 6, 6, 6, 6, 6, 6, 6, 6, 6, 6, 6, 6, 6, 6,\n",
       "       6, 6, 6, 6, 6, 6, 6, 6, 6, 6, 6, 6, 6, 6, 6, 6, 6, 6, 6, 6, 6, 6,\n",
       "       6, 6, 6, 6, 6, 6, 6, 6, 6, 6, 6, 6, 6, 6, 6, 6, 6, 6, 6, 6, 6, 6,\n",
       "       6, 6, 6, 6, 6, 6, 6, 6, 6, 6, 6, 6, 6, 6, 6, 6, 6, 6, 6, 6, 6, 6,\n",
       "       6, 6, 6, 6, 6, 6, 6, 6, 6, 6, 6, 6, 6, 6, 6, 6, 6, 6, 6, 6, 6, 6,\n",
       "       6, 6, 6, 6, 6, 6, 6, 6, 6, 6, 6, 6, 6, 6, 6, 6, 6, 6, 6, 6, 6, 6,\n",
       "       6, 6, 6, 6, 6, 6, 6, 6, 6, 6, 6, 6, 6, 6, 6, 6, 6, 6, 6, 6, 6, 6,\n",
       "       6, 6, 6, 6, 6, 6, 6, 6, 6, 6, 6, 6, 6, 6, 6, 6, 6, 6, 6, 6, 6, 6,\n",
       "       6, 6, 6, 6, 6, 6, 6, 6, 6, 6, 6, 6, 6, 6, 6, 6, 6, 6, 6, 6, 6, 6,\n",
       "       6, 6, 6, 6, 6, 6, 6, 6, 6, 6, 6, 6, 6, 6, 6, 6, 6, 6, 6, 6, 6, 6,\n",
       "       6, 6, 6, 6, 6, 6, 6, 6, 6, 6, 6, 6, 6, 6, 6, 6, 6, 6, 6, 6, 6, 6,\n",
       "       6, 6, 6, 6, 6, 6, 6, 6, 6, 6, 6, 6, 6, 6, 6, 6, 6, 6, 6, 6, 6, 6,\n",
       "       6, 6, 6, 6, 6, 6, 6, 6, 6, 6, 6, 6, 6, 6, 6, 6, 6, 6, 6, 6, 6, 6,\n",
       "       6, 6, 6, 6, 6, 6, 6, 6, 6, 6, 6, 6, 6, 6, 6, 6, 6, 6, 6, 6, 6, 6,\n",
       "       6, 6, 6, 6, 6, 6, 6, 6, 6, 6, 6, 6, 8, 6, 6, 6, 6, 6, 6, 6, 6, 6,\n",
       "       6, 6, 6, 6, 6, 6, 6, 6, 6, 6, 6, 6, 6, 6, 6, 6, 6, 6, 6, 6, 6, 6,\n",
       "       6, 6, 6, 6, 6, 6, 6, 6, 6, 6, 6, 6, 6, 6, 6, 6, 6, 6, 6, 6, 6, 6,\n",
       "       6, 6, 6, 6, 6, 6, 6, 6, 6, 6, 6, 6, 6, 6, 6, 6, 6, 6, 6, 6, 6, 6,\n",
       "       6, 6, 6, 6, 6, 6, 6, 6, 6, 6, 6, 6, 6, 6, 6, 6, 6, 6, 6, 6, 6, 6,\n",
       "       6, 6, 6, 6, 6, 6, 6, 6, 6, 6, 6, 6, 6, 6, 6, 6, 6, 6, 6, 6, 6, 6,\n",
       "       6, 6, 6, 6, 6, 6, 6, 6, 6, 6, 6, 6, 6, 6, 6, 6, 6, 6, 6, 6, 6, 6,\n",
       "       6, 6, 6, 6, 6, 6, 6, 6, 6, 6, 6, 6, 6, 6, 6, 6, 6, 6, 6, 6, 6, 6,\n",
       "       6, 6, 6, 6, 6, 6, 6, 6, 6, 6, 6, 6, 6, 6, 6, 6, 6, 6, 6, 6, 6, 6,\n",
       "       6, 6, 6, 6, 6, 6, 6, 6, 6, 6, 6, 6, 6, 6, 6, 6, 6, 6, 6, 6, 6, 6,\n",
       "       6, 6, 6, 6, 6, 6, 6, 6, 6, 6, 6, 6, 6, 6, 6, 6, 6, 6, 6, 6, 6, 6,\n",
       "       6, 6, 6, 6, 6, 6, 6, 6, 6, 6, 6, 6, 6, 6, 6, 6, 6, 6, 6, 6, 6, 6,\n",
       "       6, 6, 6, 6, 6, 6, 6, 6, 6, 6, 6, 6, 6, 6, 6, 6, 6, 6, 6, 6, 6, 6,\n",
       "       6, 6, 6, 6, 6, 6, 6, 6, 6, 6, 6, 6, 6, 6, 6, 6, 6, 6, 6, 6, 6, 6,\n",
       "       6, 6, 6, 6, 6, 6, 6, 6, 6, 6, 6, 6, 6, 6, 6, 6, 6, 6, 6, 6, 6, 6,\n",
       "       6, 6, 6, 6, 6, 6, 6, 6, 6, 6, 6, 6, 6, 6, 6, 6, 6, 6, 6, 6, 6, 6,\n",
       "       6, 6, 6, 6, 6, 6, 6, 6, 6, 6, 6, 6, 6, 6, 6, 6, 6, 6, 6, 6, 6, 6,\n",
       "       6, 6, 6, 6, 6, 6, 6, 6, 6, 6, 6, 6, 6, 6, 6, 6, 6, 6, 6, 6, 6, 6,\n",
       "       6, 6, 6, 6, 6, 6, 6, 6, 6, 6, 6, 6, 6, 6, 6, 6, 6, 6, 6, 6, 6, 6,\n",
       "       6, 6, 6, 6, 6, 6, 6, 6, 6, 6, 6, 6, 6, 6, 6, 6, 6, 6, 6, 6, 6, 6,\n",
       "       6, 6, 6, 6, 6, 6, 6, 6, 6, 6, 6, 6, 6, 6, 6, 6, 6, 6, 6, 6, 6, 6,\n",
       "       6, 6, 6, 6, 6, 6, 6, 6, 6, 6, 6, 6, 6, 6, 6, 6, 6, 6, 6, 6, 6, 6,\n",
       "       6, 6, 6, 6, 6, 6, 6, 6, 6, 6, 6, 6, 6, 6, 6, 6, 6, 6, 6, 6, 6, 6,\n",
       "       6, 6, 6, 6, 6, 6, 6, 6, 6, 6, 6, 6, 6, 6, 6, 6, 6, 6, 6, 6, 6, 6,\n",
       "       6, 6, 6, 6, 6, 6, 6, 6, 6, 6, 6, 6, 6, 6, 6, 6, 6, 6, 6, 6, 6, 6,\n",
       "       6, 6, 6, 1, 6, 6, 6, 6, 6, 6, 6, 6, 6, 6, 6, 6, 6, 6, 6, 6, 6, 6,\n",
       "       6, 6, 6, 6, 6, 6, 6, 6, 6, 6, 6, 6, 6, 6, 6, 6, 6, 6, 6, 6, 6, 6,\n",
       "       6, 6, 6, 6, 6, 6, 6, 6, 6, 6, 6, 6, 6, 6, 6, 6, 6, 6, 6, 6, 6, 6,\n",
       "       6, 6, 6, 6, 6, 6, 6, 6, 6, 6])"
      ]
     },
     "execution_count": 6,
     "metadata": {},
     "output_type": "execute_result"
    }
   ],
   "source": [
    "# Sklearn Method 1 code here\n",
    "from sklearn import svm\n",
    "\n",
    "# Method 1 classifier 1\n",
    "SVMClassifier = svm.SVC(kernel='rbf', gamma=10, C=10)\n",
    "SVMClassifier.fit(X_train, y_train)\n",
    "\n",
    "y_pred = SVMClassifier.predict(X_test)\n",
    "\n",
    "acc_svm = sklearn.metrics.accuracy_score(y_test, y_pred)\n",
    "f1_svm = sklearn.metrics.f1_score(y_test, y_pred, average = \"macro\")\n",
    "\n",
    "print(\"Accuracy: \", acc_svm)\n",
    "print(\"F1 score: \", f1_svm)\n",
    "y_pred"
   ]
  },
  {
   "cell_type": "code",
   "execution_count": 7,
   "metadata": {},
   "outputs": [
    {
     "name": "stdout",
     "output_type": "stream",
     "text": [
      "Accuracy:  0.26124197002141325\n",
      "F1 score:  0.08733918409922412\n"
     ]
    },
    {
     "name": "stderr",
     "output_type": "stream",
     "text": [
      "c:\\users\\trice\\anaconda3\\envs\\tfvenv\\lib\\site-packages\\sklearn\\metrics\\classification.py:1439: UndefinedMetricWarning: F-score is ill-defined and being set to 0.0 in labels with no true samples.\n",
      "  'recall', 'true', average, warn_for)\n"
     ]
    }
   ],
   "source": [
    "# Method 1 classifier 2\n",
    "SVMClassifier = svm.SVC(kernel='poly', degree = 3, gamma=10, C=10)\n",
    "SVMClassifier.fit(X_train, y_train)\n",
    "\n",
    "y_pred = SVMClassifier.predict(X_test)\n",
    "\n",
    "acc_svm = sklearn.metrics.accuracy_score(y_test, y_pred)\n",
    "f1_svm = sklearn.metrics.f1_score(y_test, y_pred, average = \"macro\")\n",
    "\n",
    "print(\"Accuracy: \", acc_svm)\n",
    "print(\"F1 score: \", f1_svm)"
   ]
  },
  {
   "cell_type": "code",
   "execution_count": 8,
   "metadata": {},
   "outputs": [
    {
     "name": "stdout",
     "output_type": "stream",
     "text": [
      "Accuracy:  0.4261241970021413\n",
      "F1 score:  0.04596904596904597\n"
     ]
    },
    {
     "name": "stderr",
     "output_type": "stream",
     "text": [
      "c:\\users\\trice\\anaconda3\\envs\\tfvenv\\lib\\site-packages\\sklearn\\metrics\\classification.py:1437: UndefinedMetricWarning: F-score is ill-defined and being set to 0.0 in labels with no predicted samples.\n",
      "  'precision', 'predicted', average, warn_for)\n"
     ]
    }
   ],
   "source": [
    "# Method 1 classifier 3\n",
    "SVMClassifier = svm.SVC(kernel='sigmoid', gamma=10, C=10)\n",
    "SVMClassifier.fit(X_train, y_train)\n",
    "\n",
    "y_pred = SVMClassifier.predict(X_test)\n",
    "\n",
    "acc_svm = sklearn.metrics.accuracy_score(y_test, y_pred)\n",
    "f1_svm = sklearn.metrics.f1_score(y_test, y_pred, average = \"macro\")\n",
    "\n",
    "print(\"Accuracy: \", acc_svm)\n",
    "print(\"F1 score: \", f1_svm)"
   ]
  },
  {
   "cell_type": "code",
   "execution_count": 9,
   "metadata": {},
   "outputs": [
    {
     "name": "stdout",
     "output_type": "stream",
     "text": [
      "Accuracy:  0.4261241970021413\n",
      "F1 score:  0.04596904596904597\n"
     ]
    },
    {
     "name": "stderr",
     "output_type": "stream",
     "text": [
      "c:\\users\\trice\\anaconda3\\envs\\tfvenv\\lib\\site-packages\\sklearn\\metrics\\classification.py:1437: UndefinedMetricWarning: F-score is ill-defined and being set to 0.0 in labels with no predicted samples.\n",
      "  'precision', 'predicted', average, warn_for)\n"
     ]
    }
   ],
   "source": [
    "# Sklearn Method 2 code here\n",
    "from sklearn.ensemble import RandomForestClassifier\n",
    "\n",
    "# Method 2 classifier 1\n",
    "rf_clf = RandomForestClassifier(n_estimators = 100, max_leaf_nodes = 16, n_jobs = -1, random_state = 50)\n",
    "rf_clf.fit(X_train, y_train)\n",
    "\n",
    "y_pred = rf_clf.predict(X_test)\n",
    "\n",
    "acc_rf = sklearn.metrics.accuracy_score(y_test, y_pred)\n",
    "f1_rf = sklearn.metrics.f1_score(y_test, y_pred, average = \"macro\")\n",
    "\n",
    "print(\"Accuracy: \", acc_rf)\n",
    "print(\"F1 score: \", f1_rf)"
   ]
  },
  {
   "cell_type": "code",
   "execution_count": 10,
   "metadata": {},
   "outputs": [
    {
     "name": "stdout",
     "output_type": "stream",
     "text": [
      "Accuracy:  0.4282655246252677\n",
      "F1 score:  0.05503801334617045\n"
     ]
    },
    {
     "name": "stderr",
     "output_type": "stream",
     "text": [
      "c:\\users\\trice\\anaconda3\\envs\\tfvenv\\lib\\site-packages\\sklearn\\metrics\\classification.py:1437: UndefinedMetricWarning: F-score is ill-defined and being set to 0.0 in labels with no predicted samples.\n",
      "  'precision', 'predicted', average, warn_for)\n"
     ]
    }
   ],
   "source": [
    "# Method 2 classifier 2\n",
    "rf_clf = RandomForestClassifier(n_estimators = 100, max_leaf_nodes = 50, n_jobs = -1, random_state = 50)\n",
    "rf_clf.fit(X_train, y_train)\n",
    "\n",
    "y_pred = rf_clf.predict(X_test)\n",
    "\n",
    "acc_rf = sklearn.metrics.accuracy_score(y_test, y_pred)\n",
    "f1_rf = sklearn.metrics.f1_score(y_test, y_pred, average = \"macro\")\n",
    "\n",
    "print(\"Accuracy: \", acc_rf)\n",
    "print(\"F1 score: \", f1_rf)"
   ]
  },
  {
   "cell_type": "code",
   "execution_count": 11,
   "metadata": {},
   "outputs": [
    {
     "name": "stdout",
     "output_type": "stream",
     "text": [
      "Accuracy:  0.45717344753747324\n",
      "F1 score:  0.10117022550224708\n"
     ]
    },
    {
     "name": "stderr",
     "output_type": "stream",
     "text": [
      "c:\\users\\trice\\anaconda3\\envs\\tfvenv\\lib\\site-packages\\sklearn\\metrics\\classification.py:1437: UndefinedMetricWarning: F-score is ill-defined and being set to 0.0 in labels with no predicted samples.\n",
      "  'precision', 'predicted', average, warn_for)\n"
     ]
    },
    {
     "data": {
      "text/plain": [
       "array([ 5,  6,  6,  6,  6,  6,  6,  6,  6,  6,  5,  6,  2,  6,  6,  6,  6,\n",
       "        6,  1,  6,  6,  6,  6,  6,  6,  6,  6,  6, 11,  2,  6,  6,  6,  6,\n",
       "        6,  6,  6,  6,  6,  6,  6,  6,  3,  6,  6,  6,  6,  6,  6,  6,  5,\n",
       "        6,  6,  2,  6,  6,  6,  1,  3,  6,  6,  6,  6,  6,  6,  6,  6,  6,\n",
       "        3,  6,  6,  6,  6,  6,  6,  6,  6,  6,  6,  6,  6, 11,  6,  6,  6,\n",
       "        6,  5,  6,  6,  6,  6,  6,  6,  6,  6,  6,  6,  6,  6,  6,  6,  6,\n",
       "        2,  6,  6,  6,  5,  6,  6,  6,  6,  5,  6,  6,  6,  6,  6,  6,  6,\n",
       "        6,  6,  6,  1,  6,  6,  6,  6,  6,  6,  6,  6,  6,  6,  6,  6,  6,\n",
       "        6,  6,  6,  6,  6,  6,  6,  6,  6,  6,  3,  6, 11,  6,  6,  6,  6,\n",
       "        6,  6,  6,  6,  6,  6,  6,  6,  6,  6,  6,  1,  6,  6,  6,  6,  5,\n",
       "        6,  6,  6,  1, 11,  6,  1,  6,  6,  6,  5,  6,  6,  6,  6,  6,  6,\n",
       "        6,  6,  2,  6,  5,  6,  6,  6,  6,  6,  3,  6,  6,  6,  6,  2,  6,\n",
       "        6,  6,  6,  6,  6,  6,  6,  6,  6,  6,  6,  6,  6,  6,  6,  6,  6,\n",
       "        5,  6,  6,  6,  6,  6,  6,  6,  6,  6,  6,  6,  6,  6,  6,  6,  6,\n",
       "       11,  6,  6,  6,  2,  6,  6,  6,  6,  6,  6,  6,  5,  6,  6,  6,  6,\n",
       "        6,  6,  6,  6,  6,  2,  5,  6,  6,  6,  6,  6,  6,  6,  6,  6,  6,\n",
       "        6,  6,  6,  6,  6,  1,  6,  6,  6,  6,  6,  6,  6,  6,  6,  6,  6,\n",
       "        6,  6,  6,  6,  6,  6,  1,  6,  5,  2,  6,  1,  6,  6,  6,  6,  6,\n",
       "        6,  6,  6,  6,  6,  6,  6,  6,  6,  6,  1,  6,  6,  6,  8,  2,  6,\n",
       "        6,  6,  2,  6,  6,  6,  6,  6,  6,  1,  6,  6,  6,  1,  6,  1,  6,\n",
       "        6,  6,  6,  6,  6,  6,  6,  6,  1,  6,  6,  6,  6,  6,  1,  6,  6,\n",
       "        6,  6,  6,  6,  6,  6,  6, 11,  6,  6,  1,  6,  1,  6,  6,  6,  6,\n",
       "        6,  6,  6,  6,  6,  6,  6,  6,  2,  6,  6,  6,  6,  6,  6,  6,  6,\n",
       "        6,  6,  6,  6,  6,  6,  6,  6,  6, 11,  5,  6,  6,  6,  6,  6,  6,\n",
       "        6,  6,  1,  6,  1,  6,  5,  6,  6,  6,  6,  6,  6,  6,  6,  6,  6,\n",
       "        6,  6,  4,  6,  6,  6,  6,  6,  6,  6,  6,  6,  6,  6,  6,  6,  6,\n",
       "        6,  6,  6,  6,  6,  6,  3,  6,  1,  6,  6,  6,  6,  2,  6,  6,  6,\n",
       "        6,  6,  6,  6,  6,  6,  6,  6,  6,  6,  6,  6,  3,  6,  6,  2,  3,\n",
       "        6,  1,  5,  6,  6,  6,  6,  6,  6,  6,  6,  5,  6,  6,  6,  6,  6,\n",
       "        6,  6,  6,  6,  6,  6,  6,  2,  6,  6,  6,  6,  6,  6,  6,  6,  6,\n",
       "        6,  3,  6,  6,  6,  6,  6, 11,  5,  6,  6,  6,  6,  6,  6,  5,  6,\n",
       "        6,  6,  6,  6,  6,  6,  6,  5,  6,  6,  6,  1,  6,  6,  6,  6,  6,\n",
       "        6,  6,  3,  6,  6,  6,  6,  6,  6,  6,  6,  6,  6,  6,  6,  6,  1,\n",
       "        6,  6,  6,  6,  6,  6,  6,  6,  6,  6,  6,  6,  6,  6,  6,  6,  6,\n",
       "        6,  5,  6,  1,  6,  6,  6,  6,  6,  6,  6,  6,  6,  6,  6,  6,  6,\n",
       "        1,  6,  5,  6,  6,  6,  6,  6,  6,  6,  6,  6,  6,  6,  1,  6,  6,\n",
       "        1,  6,  6,  1,  6,  6,  6,  6,  1,  6,  6,  6,  5,  6,  6,  6,  6,\n",
       "        6,  6,  6,  6,  6,  6,  6,  6,  6,  6,  6,  1,  6,  1,  6,  6,  6,\n",
       "        6,  1,  6,  6,  6,  6,  6,  6,  6,  6,  6,  6,  6,  6,  6,  2,  6,\n",
       "        6,  5,  5,  6,  6,  2,  1,  6,  6,  6,  6,  6,  6,  6,  6,  6,  6,\n",
       "        6,  6,  6,  6,  6,  6,  6,  6,  6,  6,  6,  6,  6,  6,  6,  6,  1,\n",
       "        6,  6,  6,  6,  6,  6,  6,  6,  6,  6,  6,  6,  6,  6,  6,  6,  6,\n",
       "        6,  6,  6,  6,  6,  6,  6,  6,  6,  6,  5,  5,  3,  6,  6,  6,  6,\n",
       "        6,  6,  6,  6,  6,  6,  6,  6,  6,  6,  6,  6,  6,  6,  6,  6,  2,\n",
       "        6,  6,  6,  6,  6,  6,  6,  6,  6,  6,  6,  6,  6,  2,  6,  6,  6,\n",
       "        6,  6,  6,  6,  6,  5,  6,  5,  6,  5,  1,  6,  6,  6,  6,  6,  6,\n",
       "        6,  6,  6,  6,  6,  6,  5,  6,  6,  6,  6,  6,  6,  6,  6,  6,  6,\n",
       "        6,  6,  6,  6,  6,  6,  6,  6,  5,  6,  6,  6,  6,  6,  2,  4,  6,\n",
       "        6,  6,  6,  6,  6,  6,  6,  6,  6,  6,  6,  3,  5,  6,  6,  6,  6,\n",
       "        6,  6,  6,  2,  6,  6,  6,  6,  6,  6,  6,  6,  6,  6,  6,  5,  1,\n",
       "        6,  5,  6,  6,  6,  6,  6,  6,  6,  6,  6,  6,  6,  6,  6,  6,  6,\n",
       "        6,  1,  6,  6,  6,  6,  6,  6,  6,  5,  6,  6,  6,  6,  6,  6,  6,\n",
       "        6,  6,  2,  6,  1,  3,  6,  6,  6,  2,  6,  6,  6,  6,  6,  6,  1,\n",
       "        5,  6,  6,  6,  6,  6,  6,  6,  6,  6,  5,  6,  6,  1,  6,  6,  6,\n",
       "        6,  6,  6,  6,  6,  6,  6,  2,  6,  6,  6,  6,  6,  6,  6,  1])"
      ]
     },
     "execution_count": 11,
     "metadata": {},
     "output_type": "execute_result"
    }
   ],
   "source": [
    "# Method 2 classifier 3\n",
    "rf_clf = RandomForestClassifier(n_estimators = 100, max_leaf_nodes = 465, n_jobs = -1, random_state = 50)\n",
    "rf_clf.fit(X_train, y_train)\n",
    "\n",
    "y_pred = rf_clf.predict(X_test)\n",
    "\n",
    "acc_rf = sklearn.metrics.accuracy_score(y_test, y_pred)\n",
    "f1_rf = sklearn.metrics.f1_score(y_test, y_pred, average = \"macro\")\n",
    "\n",
    "print(\"Accuracy: \", acc_rf)\n",
    "print(\"F1 score: \", f1_rf)\n",
    "y_pred"
   ]
  },
  {
   "cell_type": "code",
   "execution_count": 12,
   "metadata": {},
   "outputs": [
    {
     "name": "stdout",
     "output_type": "stream",
     "text": [
      "['Did you spend money on Orbs specifically for the Trick or Defeat banner?', 0.07047846518129212]\n",
      "['Horse Emblem (3+ Cavalry Units): Check all that apply:', 0.02607208890530828]\n",
      "['Who is your FAVORITE hero?', 0.02394008663036602]\n",
      "['Which of the following Bonus Units did you use? Select all that apply', 0.02385797449868609]\n",
      "['Who is your MOST WANTED hero?', 0.023826150894906303]\n",
      "['Who is the most UNDERRATED hero?', 0.023310547771419738]\n",
      "['Intelligent Systems comes to you with the offer to make a winter holidays version of any hero you choose. Who do you pick?', 0.022698968097748663]\n",
      "['Which of the following banners have you used orbs on at least once? Select all that apply.', 0.021925530252225135]\n",
      "[\"What is the highest merge level you've achieved on a 5* unit?\", 0.021658745654487683]\n",
      "['Armor Emblem (3+ Armor Units): Check all that apply:', 0.020376851388328333]\n",
      "['Who is the most OVERRATED hero?', 0.020341541053560234]\n",
      "['Flier Emblem (3+ Flier Units): Check all that apply:', 0.02001101445566959]\n",
      "['You are about to start a serious run of Arena Assault: Which 3 items do you bring?', 0.019928047581385062]\n",
      "[\"What is the highest merge level you've achieved on a 4* unit?\", 0.016976670481954354]\n",
      "['If you used orbs on the Trick or Defeat banner, which heroes did you summon for (whether successful or not)? Select all that apply.', 0.01620450376313709]\n",
      "['Which of the following games/series have you played before?', 0.013835052188213777]\n",
      "['Dragon Emblem (3+ Dragon Units): Check all that apply:', 0.01334378433496349]\n",
      "['If you have reached Tier 20, which of the following statements best applies to you:', 0.012433456975609462]\n",
      "['Approximately how many 5* Heroes have you pulled from a Free Summon?', 0.011979393110344789]\n",
      "['What is your age?', 0.011851787839387186]\n",
      "['How Satisfied are you with your time/money investment into FE:Heroes? Do you feel it was worth it?', 0.011714970167470428]\n",
      "['What is your current Arena tier? (For the season beginning Nov 14th)', 0.011088129389583567]\n",
      "['What is/was your favorite banner out of the options below?', 0.010947695166857742]\n",
      "['Which of the following banners did you use the most orbs on?', 0.010683729885268493]\n",
      "['Which of the following units do you have at 5* rarity? Select all that apply.', 0.01041094766247266]\n",
      "['Rate your feelings on the following statements: [Distant Counter and Close Counter should be Sacred Seals]', 0.010318187264714507]\n",
      "['What is the highest milestone you achieved?', 0.010220017625179443]\n",
      "['Rate your feelings on the following statements: [I liked Henry before he was cool]', 0.010176084715398033]\n",
      "['Rate your feelings on the following statements: [Arden has good art]', 0.010174723659624662]\n",
      "['Rate your feelings on the following statements: [More healers/staff users should be added to the game]', 0.010017078146589682]\n",
      "['Rate the DIFFICULTY of the most recent Tempest Trial:', 0.009911425927172871]\n",
      "['Which Tempest Trials experience has been your favorite so far?', 0.009902105730553085]\n",
      "['Rate your feelings on the following statements: [I care about which character wins the Voting Gauntlets]', 0.00970251363594942]\n",
      "['When did you begin playing your main account in Fire Emblem: Heroes?', 0.009597295620664713]\n",
      "[\"Rate your feelings on the following statements: [I was upset by the circumstances of Ayra's release]\", 0.009333432306010258]\n",
      "['Rate the DIFFICULTY of the following GHBs / BHBs: [Arvis Lunatic]', 0.009256472974617843]\n",
      "['Rate your overall ENJOYMENT of the Arena Assault game mode:', 0.009112759405670058]\n",
      "['What impact have the following had on your enjoyment of FE:H? [The release of Ayra]', 0.009096467776085224]\n",
      "['What impact have the following had on your enjoyment of FE:H? [The frequency of Seasonal/Special Banners]', 0.009044697156127494]\n",
      "['Rate the DIFFICULTY of the following GHBs / BHBs: [Arvis Infernal]', 0.008964481953869514]\n",
      "['Rate your ENJOYMENT of the most recent Tempest Trial:', 0.008948411784041226]\n",
      "['Rate the DIFFICULTY of the following GHBs / BHBs: [Minerva & Maria Infernal]', 0.008847202975010158]\n",
      "['Do you believe you will ever reach Tier 20 in Arena?', 0.00851643172841214]\n",
      "['For each of the following Sacred Seals, select the level that you currently have the seal (if you have it): [Deflect Magic]', 0.008455086801149024]\n",
      "['How often do you play a full 7-map run of Arena Assault?', 0.00825863441068652]\n",
      "['What impact have the following had on your enjoyment of FE:H? [Powercreep / Strong new units]', 0.008126803998782198]\n",
      "['For each of the following Sacred Seals, select the level that you currently have the seal (if you have it): [Distant Defense]', 0.007993387749316313]\n",
      "['Rate the DIFFICULTY of the following GHBs / BHBs: [Minerva & Maria Lunatic]', 0.007901081177449898]\n",
      "['What impact have the following had on your enjoyment of FE:H? [The release of Sigurd]', 0.007864864528659393]\n",
      "['Did you summon more than once on the Genealogy of Light Tempest Trials banner specifically to get Ayra? ', 0.007853653397647343]\n",
      "['Rate the DIFFICULTY of the following GHBs / BHBs: [Arvis Hard]', 0.007684837219133744]\n",
      "['What impact have the following had on your enjoyment of FE:H? [The Brave Heroes banner]', 0.007643574718116913]\n",
      "['For each of the following Sacred Seals, select the level that you currently have the seal (if you have it): [Speed Plus]', 0.007515829165371198]\n",
      "['Which difficulties did you complete for GHB Arvis? Select all that apply:', 0.007431909250593363]\n",
      "['For each of the following Sacred Seals, select the level that you currently have the seal (if you have it): [Squad Ace D (SPD+)]', 0.007215335136943189]\n",
      "['How do you feel about units releasing with 5 available skills instead of 4?', 0.007173129478759498]\n",
      "['What impact have the following had on your enjoyment of FE:H? [Lack of new content throughout October / Early November]', 0.007169956265030128]\n",
      "['Select what best describes the amount of outside help you used to beat the following GHBs and BHBs: [GHB Arvis]', 0.0071124387039659094]\n",
      "['Rate the extent to which you believe new game modes are necessary for the future of FE:H', 0.007077061750966507]\n",
      "[\"How do you feel about BHB Re-runs (eg. BHB Cecilia & Lilina's return)\", 0.007016988408329734]\n",
      "['How do you feel about unique weapons coming with two skills effects instead of one?', 0.006998384838034344]\n",
      "['For each of the following Sacred Seals, select the level that you currently have the seal (if you have it): [Panic Ploy]', 0.006875324738500197]\n",
      "['For each of the following Sacred Seals, select the level that you currently have the seal (if you have it): [Attack Plus]', 0.006848652054437496]\n",
      "['Do you believe that every playable character from every main-series Fire Emblem game will be added eventually?', 0.006524035144708245]\n",
      "['For each of the following Sacred Seals, select the level that you currently have the seal (if you have it): [Deflect Missile]', 0.006438015014923093]\n",
      "['Do you use items in a typical 7-map Arena Assault run?', 0.006152136107349915]\n",
      "['Rate the DIFFICULTY of the following GHBs / BHBs: [Minerva & Maria Hard]', 0.0059946988072064455]\n",
      "['Which difficulties did you complete for BHB Minerva & Maria? Select all that apply:', 0.00593900929939217]\n",
      "['Do you believe the Arena Assault rewards are fair?', 0.00581802066976949]\n",
      "['For each of the following Sacred Seals, select the level that you currently have the seal (if you have it): [Brash Assault]', 0.00578771652048614]\n",
      "['How do you feel about the pace at which Sacred Seals are becoming available?', 0.005741739068758583]\n",
      "['For each of the following Sacred Seals, select the level that you currently have the seal (if you have it): [Attack Ploy]', 0.005646515224846287]\n",
      "['Ayra was the first hero to be released on a banner alongside older units, and even shared a focus color. How do you feel about this?', 0.005593162640013523]\n",
      "['If you could make Tempest Trials run back-to-back, such that there was always a Tempest Trials running, would you?', 0.005564773488400368]\n",
      "['For each of the following Sacred Seals, select the level that you currently have the seal (if you have it): [Guidance]', 0.005549083633225841]\n",
      "['What do you think about the amount of Sacred Coins available from Arena Assault, Voting Gauntlets, and Tempest Trials?', 0.005444036469447289]\n",
      "['Select what best describes the amount of outside help you used to beat the following GHBs and BHBs: [BHB Minerva & Maria]', 0.005435714227572457]\n",
      "['How do you feel about unique uninheritable skills?', 0.0053807509052614545]\n",
      "['Do you believe BHB Re-runs should have quest rewards that grant copies of the featured units?', 0.00527478597004184]\n",
      "['For each of the following Sacred Seals, select the level that you currently have the seal (if you have it): [Squad Ace B (DEF+)]', 0.005258493651255531]\n",
      "['For each of the following Sacred Seals, select the level that you currently have the seal (if you have it): [Squad Ace A (HP+)]', 0.005079488767396695]\n",
      "['For each of the following Sacred Seals, select the level that you currently have the seal (if you have it): [Hardy Bearing]', 0.005072303540223521]\n",
      "['Do you believe that Intelligent Systems cares about its Free to Play userbase?', 0.004977925156788538]\n",
      "['For each of the following Sacred Seals, select the level that you currently have the seal (if you have it): [Spur Attack]', 0.004962267445391383]\n",
      "['For each of the following Sacred Seals, select the level that you currently have the seal (if you have it): [Deflect Melee]', 0.004860241241799908]\n",
      "['For each of the following Sacred Seals, select the level that you currently have the seal (if you have it): [Squad Ace C (RES+)]', 0.004853163643406793]\n",
      "['For each of the following Sacred Seals, select the level that you currently have the seal (if you have it): [Attack Smoke]', 0.0047941037999977825]\n",
      "['For each of the following Sacred Seals, select the level that you currently have the seal (if you have it): [Spur Speed]', 0.004715446014583765]\n",
      "['For each of the following Sacred Seals, select the level that you currently have the seal (if you have it): [Phantom Speed]', 0.004703840412108386]\n",
      "['For each of the following Sacred Seals, select the level that you currently have the seal (if you have it): [Breath of Life]', 0.004511249530609963]\n",
      "['For each of the following Sacred Seals, select the level that you currently have the seal (if you have it): [Fortify Resistance]', 0.004483150825051298]\n",
      "['For each of the following Sacred Seals, select the level that you currently have the seal (if you have it): [Spur Resistance]', 0.004405202543046967]\n",
      "['Do you believe new heroes should be released at 3* or 4* base rarities?', 0.004348959858016413]\n",
      "['What is your gender?', 0.0039510717494394805]\n",
      "['For each of the following Sacred Seals, select the level that you currently have the seal (if you have it): [Spur Defense]', 0.003933544482093777]\n",
      "['For each of the following Sacred Seals, select the level that you currently have the seal (if you have it): [Fortify Defense]', 0.003901887379587931]\n",
      "['For each of the following Sacred Seals, select the level that you currently have the seal (if you have it): [Defense Plus]', 0.0037050918471059247]\n",
      "['For each of the following Sacred Seals, select the level that you currently have the seal (if you have it): [HP Plus]', 0.0035339089734656923]\n",
      "['For each of the following Sacred Seals, select the level that you currently have the seal (if you have it): [Resistance Plus]', 0.003384628192181256]\n",
      "['Have you completed all Lunatic Chain Challenges?', 0.0026957744559185735]\n",
      "['Do you believe the heroes available through the 1* and 2* Hero Rotation Maps need to be swapped out for new heroes?', 0.0023625690162995747]\n",
      "['Do you believe the summoning pools (eg. the Heroes available at each rarity) need to be adjusted?', 0.0019686367746183423]\n"
     ]
    }
   ],
   "source": [
    "# Get feature_importances for all features, then print in order of most important to least important\n",
    "scores = []\n",
    "for name, score in zip(df.drop(\"How much money have you spent on the game?\", axis = 1), rf_clf.feature_importances_):\n",
    "    scores.append([name, score])\n",
    "scores.sort(key=lambda x:x[1])\n",
    "i = len(scores) - 1\n",
    "while(i >= 0):\n",
    "    print(scores[i])\n",
    "    i = i - 1"
   ]
  },
  {
   "cell_type": "code",
   "execution_count": 13,
   "metadata": {},
   "outputs": [],
   "source": [
    "# Tensorflow/keras Method code here\n",
    "train_tensor = tensorflow.data.Dataset.from_tensor_slices((X_train, y_train))\n",
    "test_tensor = tensorflow.data.Dataset.from_tensor_slices((X_test, y_test))\n",
    "\n",
    "train_batch = train_tensor.shuffle(len(X_train)).batch(5)\n",
    "test_batch = test_tensor.shuffle(len(X_test)).batch(5)"
   ]
  },
  {
   "cell_type": "code",
   "execution_count": 14,
   "metadata": {
    "scrolled": true
   },
   "outputs": [
    {
     "name": "stdout",
     "output_type": "stream",
     "text": [
      "Epoch 1/10\n",
      "747/747 [==============================] - 2s 3ms/step - loss: 45341046.9665 - accuracy: 0.0000e+00\n",
      "Epoch 2/10\n",
      "747/747 [==============================] - 1s 1ms/step - loss: 573706625.8481 - accuracy: 0.0000e+00\n",
      "Epoch 3/10\n",
      "747/747 [==============================] - 1s 1ms/step - loss: 1810913440.9119 - accuracy: 0.0000e+00\n",
      "Epoch 4/10\n",
      "747/747 [==============================] - 1s 1ms/step - loss: 3688391664.6650 - accuracy: 0.0000e+00\n",
      "Epoch 5/10\n",
      "747/747 [==============================] - 1s 1ms/step - loss: 6016344595.9670 - accuracy: 0.0000e+00\n",
      "Epoch 6/10\n",
      "747/747 [==============================] - 1s 1ms/step - loss: 8963784527.5834 - accuracy: 0.0000e+00\n",
      "Epoch 7/10\n",
      "747/747 [==============================] - 1s 1ms/step - loss: 12339005962.6741 - accuracy: 0.0000e+00\n",
      "Epoch 8/10\n",
      "747/747 [==============================] - 1s 1ms/step - loss: 16004878609.2608 - accuracy: 0.0040\n",
      "Epoch 9/10\n",
      "747/747 [==============================] - 1s 1ms/step - loss: 19965801550.9947 - accuracy: 0.0399\n",
      "Epoch 10/10\n",
      "747/747 [==============================] - 1s 1ms/step - loss: 24255691856.8782 - accuracy: 0.0589\n",
      "187/187 [==============================] - 0s 1ms/step - loss: 26606702860.3209 - accuracy: 0.0000e+00\n",
      "Test loss: 26606702860.320854\n",
      "Test accuracy: 0.0\n"
     ]
    }
   ],
   "source": [
    "#Method 3 classifier 1\n",
    "nn_clf = tensorflow.keras.Sequential([\n",
    "    tensorflow.keras.layers.Dense(units = 50, input_dim = 102, activation = tensorflow.keras.layers.LeakyReLU(alpha=0.1)),\n",
    "    tensorflow.keras.layers.Dense(units = 30, activation = tensorflow.keras.layers.LeakyReLU(alpha=0.1)),\n",
    "    tensorflow.keras.layers.Dense(units = 20, activation = tensorflow.keras.layers.LeakyReLU(alpha=0.1)),\n",
    "    tensorflow.keras.layers.Dense(units = 14, activation = \"softmax\"),\n",
    "    ])\n",
    "\n",
    "nn_clf.compile(optimizer='adam', loss=tensorflow.keras.losses.CategoricalCrossentropy(), learning_rate = .5, metrics=['accuracy'])\n",
    "\n",
    "nn_clf_history = nn_clf.fit(train_batch, epochs = 10)\n",
    "\n",
    "score = nn_clf.evaluate(test_batch)\n",
    "print('Test loss:', score[0])\n",
    "print('Test accuracy:', score[1])"
   ]
  },
  {
   "cell_type": "code",
   "execution_count": 15,
   "metadata": {
    "scrolled": true
   },
   "outputs": [
    {
     "name": "stdout",
     "output_type": "stream",
     "text": [
      "Epoch 1/10\n",
      "747/747 [==============================] - 2s 3ms/step - loss: 5546.3576 - accuracy: 2.6781e-04\n",
      "Epoch 2/10\n",
      "747/747 [==============================] - 1s 1ms/step - loss: 34425.9527 - accuracy: 0.0000e+00\n",
      "Epoch 3/10\n",
      "747/747 [==============================] - 1s 1ms/step - loss: 88899.9922 - accuracy: 0.0000e+00\n",
      "Epoch 4/10\n",
      "747/747 [==============================] - 1s 1ms/step - loss: 161247.3019 - accuracy: 0.0000e+00\n",
      "Epoch 5/10\n",
      "747/747 [==============================] - 1s 1ms/step - loss: 247411.6568 - accuracy: 0.0000e+00\n",
      "Epoch 6/10\n",
      "747/747 [==============================] - 1s 1ms/step - loss: 344925.3745 - accuracy: 0.0000e+00\n",
      "Epoch 7/10\n",
      "747/747 [==============================] - 1s 1ms/step - loss: 452725.0408 - accuracy: 0.0000e+00\n",
      "Epoch 8/10\n",
      "747/747 [==============================] - 1s 1ms/step - loss: 569555.4367 - accuracy: 0.0000e+00\n",
      "Epoch 9/10\n",
      "747/747 [==============================] - 1s 1ms/step - loss: 695293.6665 - accuracy: 0.0000e+00\n",
      "Epoch 10/10\n",
      "747/747 [==============================] - 1s 1ms/step - loss: 828502.7263 - accuracy: 0.0000e+00\n",
      "187/187 [==============================] - 0s 1ms/step - loss: 907136.8214 - accuracy: 0.0000e+00\n",
      "Test loss: 907136.8213569518\n",
      "Test accuracy: 0.0\n"
     ]
    }
   ],
   "source": [
    "#Method 3 classifier 2\n",
    "nn_clf = tensorflow.keras.Sequential([\n",
    "    tensorflow.keras.layers.Dense(units = 50, input_dim = 102, activation = tensorflow.keras.layers.LeakyReLU(alpha=0.1)),\n",
    "    tensorflow.keras.layers.Dense(units = 30, activation = tensorflow.keras.layers.LeakyReLU(alpha=0.1)),\n",
    "    tensorflow.keras.layers.Dense(units = 20, activation = tensorflow.keras.layers.LeakyReLU(alpha=0.1)),\n",
    "    tensorflow.keras.layers.Dense(units = 14, activation = \"softmax\"),\n",
    "    ])\n",
    "\n",
    "nn_clf.compile(optimizer='ftrl', loss=tensorflow.keras.losses.CategoricalCrossentropy(), learning_rate = .5, metrics=['accuracy'])\n",
    "\n",
    "nn_clf_history = nn_clf.fit(train_batch, epochs = 10)\n",
    "\n",
    "score = nn_clf.evaluate(test_batch)\n",
    "print('Test loss:', score[0])\n",
    "print('Test accuracy:', score[1])"
   ]
  },
  {
   "cell_type": "code",
   "execution_count": 16,
   "metadata": {
    "scrolled": true
   },
   "outputs": [
    {
     "name": "stdout",
     "output_type": "stream",
     "text": [
      "Epoch 1/10\n",
      "747/747 [==============================] - 2s 3ms/step - loss: 1917.8380 - accuracy: 0.0056\n",
      "Epoch 2/10\n",
      "747/747 [==============================] - 1s 1ms/step - loss: 1849.5556 - accuracy: 0.0075\n",
      "Epoch 3/10\n",
      "747/747 [==============================] - 1s 1ms/step - loss: 1782.6456 - accuracy: 0.0123\n",
      "Epoch 4/10\n",
      "747/747 [==============================] - 1s 1ms/step - loss: 1718.1338 - accuracy: 0.0196\n",
      "Epoch 5/10\n",
      "747/747 [==============================] - 1s 1ms/step - loss: 1657.3493 - accuracy: 0.0313\n",
      "Epoch 6/10\n",
      "747/747 [==============================] - 1s 1ms/step - loss: 1602.0193 - accuracy: 0.0445\n",
      "Epoch 7/10\n",
      "747/747 [==============================] - 1s 1ms/step - loss: 1557.2859 - accuracy: 0.0603\n",
      "Epoch 8/10\n",
      "747/747 [==============================] - 1s 1ms/step - loss: 1525.0738 - accuracy: 0.0720\n",
      "Epoch 9/10\n",
      "747/747 [==============================] - 1s 1ms/step - loss: 1511.7438 - accuracy: 0.0838\n",
      "Epoch 10/10\n",
      "747/747 [==============================] - 1s 1ms/step - loss: 1515.4421 - accuracy: 0.0916\n",
      "187/187 [==============================] - 0s 1ms/step - loss: 1565.3132 - accuracy: 0.0910\n",
      "Test loss: 1565.3132223037476\n",
      "Test accuracy: 0.09100642\n"
     ]
    },
    {
     "data": {
      "text/plain": [
       "array([ 5,  6,  6,  6,  6,  6,  6,  6,  6,  6,  5,  6,  2,  6,  6,  6,  6,\n",
       "        6,  1,  6,  6,  6,  6,  6,  6,  6,  6,  6, 11,  2,  6,  6,  6,  6,\n",
       "        6,  6,  6,  6,  6,  6,  6,  6,  3,  6,  6,  6,  6,  6,  6,  6,  5,\n",
       "        6,  6,  2,  6,  6,  6,  1,  3,  6,  6,  6,  6,  6,  6,  6,  6,  6,\n",
       "        3,  6,  6,  6,  6,  6,  6,  6,  6,  6,  6,  6,  6, 11,  6,  6,  6,\n",
       "        6,  5,  6,  6,  6,  6,  6,  6,  6,  6,  6,  6,  6,  6,  6,  6,  6,\n",
       "        2,  6,  6,  6,  5,  6,  6,  6,  6,  5,  6,  6,  6,  6,  6,  6,  6,\n",
       "        6,  6,  6,  1,  6,  6,  6,  6,  6,  6,  6,  6,  6,  6,  6,  6,  6,\n",
       "        6,  6,  6,  6,  6,  6,  6,  6,  6,  6,  3,  6, 11,  6,  6,  6,  6,\n",
       "        6,  6,  6,  6,  6,  6,  6,  6,  6,  6,  6,  1,  6,  6,  6,  6,  5,\n",
       "        6,  6,  6,  1, 11,  6,  1,  6,  6,  6,  5,  6,  6,  6,  6,  6,  6,\n",
       "        6,  6,  2,  6,  5,  6,  6,  6,  6,  6,  3,  6,  6,  6,  6,  2,  6,\n",
       "        6,  6,  6,  6,  6,  6,  6,  6,  6,  6,  6,  6,  6,  6,  6,  6,  6,\n",
       "        5,  6,  6,  6,  6,  6,  6,  6,  6,  6,  6,  6,  6,  6,  6,  6,  6,\n",
       "       11,  6,  6,  6,  2,  6,  6,  6,  6,  6,  6,  6,  5,  6,  6,  6,  6,\n",
       "        6,  6,  6,  6,  6,  2,  5,  6,  6,  6,  6,  6,  6,  6,  6,  6,  6,\n",
       "        6,  6,  6,  6,  6,  1,  6,  6,  6,  6,  6,  6,  6,  6,  6,  6,  6,\n",
       "        6,  6,  6,  6,  6,  6,  1,  6,  5,  2,  6,  1,  6,  6,  6,  6,  6,\n",
       "        6,  6,  6,  6,  6,  6,  6,  6,  6,  6,  1,  6,  6,  6,  8,  2,  6,\n",
       "        6,  6,  2,  6,  6,  6,  6,  6,  6,  1,  6,  6,  6,  1,  6,  1,  6,\n",
       "        6,  6,  6,  6,  6,  6,  6,  6,  1,  6,  6,  6,  6,  6,  1,  6,  6,\n",
       "        6,  6,  6,  6,  6,  6,  6, 11,  6,  6,  1,  6,  1,  6,  6,  6,  6,\n",
       "        6,  6,  6,  6,  6,  6,  6,  6,  2,  6,  6,  6,  6,  6,  6,  6,  6,\n",
       "        6,  6,  6,  6,  6,  6,  6,  6,  6, 11,  5,  6,  6,  6,  6,  6,  6,\n",
       "        6,  6,  1,  6,  1,  6,  5,  6,  6,  6,  6,  6,  6,  6,  6,  6,  6,\n",
       "        6,  6,  4,  6,  6,  6,  6,  6,  6,  6,  6,  6,  6,  6,  6,  6,  6,\n",
       "        6,  6,  6,  6,  6,  6,  3,  6,  1,  6,  6,  6,  6,  2,  6,  6,  6,\n",
       "        6,  6,  6,  6,  6,  6,  6,  6,  6,  6,  6,  6,  3,  6,  6,  2,  3,\n",
       "        6,  1,  5,  6,  6,  6,  6,  6,  6,  6,  6,  5,  6,  6,  6,  6,  6,\n",
       "        6,  6,  6,  6,  6,  6,  6,  2,  6,  6,  6,  6,  6,  6,  6,  6,  6,\n",
       "        6,  3,  6,  6,  6,  6,  6, 11,  5,  6,  6,  6,  6,  6,  6,  5,  6,\n",
       "        6,  6,  6,  6,  6,  6,  6,  5,  6,  6,  6,  1,  6,  6,  6,  6,  6,\n",
       "        6,  6,  3,  6,  6,  6,  6,  6,  6,  6,  6,  6,  6,  6,  6,  6,  1,\n",
       "        6,  6,  6,  6,  6,  6,  6,  6,  6,  6,  6,  6,  6,  6,  6,  6,  6,\n",
       "        6,  5,  6,  1,  6,  6,  6,  6,  6,  6,  6,  6,  6,  6,  6,  6,  6,\n",
       "        1,  6,  5,  6,  6,  6,  6,  6,  6,  6,  6,  6,  6,  6,  1,  6,  6,\n",
       "        1,  6,  6,  1,  6,  6,  6,  6,  1,  6,  6,  6,  5,  6,  6,  6,  6,\n",
       "        6,  6,  6,  6,  6,  6,  6,  6,  6,  6,  6,  1,  6,  1,  6,  6,  6,\n",
       "        6,  1,  6,  6,  6,  6,  6,  6,  6,  6,  6,  6,  6,  6,  6,  2,  6,\n",
       "        6,  5,  5,  6,  6,  2,  1,  6,  6,  6,  6,  6,  6,  6,  6,  6,  6,\n",
       "        6,  6,  6,  6,  6,  6,  6,  6,  6,  6,  6,  6,  6,  6,  6,  6,  1,\n",
       "        6,  6,  6,  6,  6,  6,  6,  6,  6,  6,  6,  6,  6,  6,  6,  6,  6,\n",
       "        6,  6,  6,  6,  6,  6,  6,  6,  6,  6,  5,  5,  3,  6,  6,  6,  6,\n",
       "        6,  6,  6,  6,  6,  6,  6,  6,  6,  6,  6,  6,  6,  6,  6,  6,  2,\n",
       "        6,  6,  6,  6,  6,  6,  6,  6,  6,  6,  6,  6,  6,  2,  6,  6,  6,\n",
       "        6,  6,  6,  6,  6,  5,  6,  5,  6,  5,  1,  6,  6,  6,  6,  6,  6,\n",
       "        6,  6,  6,  6,  6,  6,  5,  6,  6,  6,  6,  6,  6,  6,  6,  6,  6,\n",
       "        6,  6,  6,  6,  6,  6,  6,  6,  5,  6,  6,  6,  6,  6,  2,  4,  6,\n",
       "        6,  6,  6,  6,  6,  6,  6,  6,  6,  6,  6,  3,  5,  6,  6,  6,  6,\n",
       "        6,  6,  6,  2,  6,  6,  6,  6,  6,  6,  6,  6,  6,  6,  6,  5,  1,\n",
       "        6,  5,  6,  6,  6,  6,  6,  6,  6,  6,  6,  6,  6,  6,  6,  6,  6,\n",
       "        6,  1,  6,  6,  6,  6,  6,  6,  6,  5,  6,  6,  6,  6,  6,  6,  6,\n",
       "        6,  6,  2,  6,  1,  3,  6,  6,  6,  2,  6,  6,  6,  6,  6,  6,  1,\n",
       "        5,  6,  6,  6,  6,  6,  6,  6,  6,  6,  5,  6,  6,  1,  6,  6,  6,\n",
       "        6,  6,  6,  6,  6,  6,  6,  2,  6,  6,  6,  6,  6,  6,  6,  1])"
      ]
     },
     "execution_count": 16,
     "metadata": {},
     "output_type": "execute_result"
    }
   ],
   "source": [
    "#Method 3 classifier 3\n",
    "nn_clf = tensorflow.keras.Sequential([\n",
    "    tensorflow.keras.layers.Dense(units = 50, input_dim = 102, activation = tensorflow.keras.layers.LeakyReLU(alpha=0.1)),\n",
    "    tensorflow.keras.layers.Dense(units = 30, activation = tensorflow.keras.layers.LeakyReLU(alpha=0.1)),\n",
    "    tensorflow.keras.layers.Dense(units = 20, activation = tensorflow.keras.layers.LeakyReLU(alpha=0.1)),\n",
    "    tensorflow.keras.layers.Dense(units = 14, activation = \"softmax\"),\n",
    "    ])\n",
    "\n",
    "nn_clf.compile(optimizer='adadelta', loss=tensorflow.keras.losses.CategoricalCrossentropy(), learning_rate = .5, metrics=['accuracy'])\n",
    "\n",
    "nn_clf_history = nn_clf.fit(train_batch, epochs = 10)\n",
    "\n",
    "score = nn_clf.evaluate(test_batch)\n",
    "print('Test loss:', score[0])\n",
    "print('Test accuracy:', score[1])\n",
    "y_pred"
   ]
  },
  {
   "cell_type": "markdown",
   "metadata": {},
   "source": [
    "## Results"
   ]
  },
  {
   "cell_type": "markdown",
   "metadata": {},
   "source": [
    "Your results must include at least one comparison table and two plots (for groups 4 plots required)."
   ]
  },
  {
   "cell_type": "markdown",
   "metadata": {},
   "source": [
    "### Comparison Table"
   ]
  },
  {
   "cell_type": "markdown",
   "metadata": {},
   "source": [
    "You should compare all of the methods in one or multiple tables, showing clearly the method names, the metrics used for comparison and the results (accuracy, scores, loss, etc). You may use [online tools such as this](https://www.tablesgenerator.com/markdown_tables) for generating and editing neatly-formatted tables in Markdown. You can then copy the code to your Markdown cell to generate the plot. Groups should add more rows/columns as required.\n",
    "<br>\n",
    "\n",
    "<b>Notice: </b>You should use at least two different metrics for comparison of your methods."
   ]
  },
  {
   "cell_type": "markdown",
   "metadata": {},
   "source": [
    "Your comparison table HERE:<br><br>\n",
    "\n",
    "| Metric/Method  | SVM | Random Forest | Sequential Neural Net |\n",
    "|:--------------:|:--------:|:--------:|:--------:|\n",
    "|Accuracy|0.4282655246252677|0.45717344753747324|0|\n",
    "|F1 score|0.05287015615962984|0.10117022550224708|0|"
   ]
  },
  {
   "cell_type": "markdown",
   "metadata": {},
   "source": [
    "### Plots"
   ]
  },
  {
   "cell_type": "markdown",
   "metadata": {},
   "source": [
    "Using meaningful plots is an efficient way to visualize and conlude your experiments as well as results. Examples of acceptable plots include but are not limited to:\n",
    "- ROC curve (can be used with classification only)\n",
    "- loss plots (precision/recall for classification, mse or mae for regression)\n",
    "- hyperparameter tuning plots (varying one hyperparameter using for loops on x-axis and accuracy/loss on y-axis)\n",
    "- train/validation/test errors/loss plots, histogram of errors and so on.\n",
    "\n",
    "<b>Notice:</b> All plots should have title, xlabel, ylabel, and (if applicable) legend. Use different colors if you have multiple curves on one plot. Points will be deducted if your plots are incomplete. Check matplotlib documentation, examples from the assignments, and research papers or ML articles and find those plots that are applicable to your project. Individual students should have at least 2 plots while groups should have at least 4 plots.\n"
   ]
  },
  {
   "cell_type": "markdown",
   "metadata": {},
   "source": [
    "## <font color=\"red\"> Required Coding - Groups should add more cell as required"
   ]
  },
  {
   "cell_type": "code",
   "execution_count": 17,
   "metadata": {},
   "outputs": [
    {
     "data": {
      "text/plain": [
       "[<matplotlib.lines.Line2D at 0x1f05fd5fe08>]"
      ]
     },
     "execution_count": 17,
     "metadata": {},
     "output_type": "execute_result"
    },
    {
     "data": {
      "image/png": "[encoded data removed]",
      "text/plain": [
       "<Figure size 432x288 with 1 Axes>"
      ]
     },
     "metadata": {
      "needs_background": "light"
     },
     "output_type": "display_data"
    }
   ],
   "source": [
    "# Plot-1 code here\n",
    "max_leaf_nodes = range(400,521)\n",
    "acc = []\n",
    "\n",
    "for n in max_leaf_nodes:\n",
    "    rf_clf = RandomForestClassifier(n_estimators = 100, max_leaf_nodes = n, n_jobs = -1, random_state = 50)\n",
    "    rf_clf.fit(X_train, y_train)\n",
    "\n",
    "    y_pred = rf_clf.predict(X_test)\n",
    "    \n",
    "    acc.append(sklearn.metrics.accuracy_score(y_test, y_pred))\n",
    "\n",
    "plt.title('Impact of max_leaf_nodes on accuracy')\n",
    "plt.xlabel('max_leaf_nodes', fontsize=14)\n",
    "plt.ylabel('accuracy', fontsize=14)\n",
    "plt.plot(max_leaf_nodes, acc)"
   ]
  },
  {
   "cell_type": "code",
   "execution_count": 18,
   "metadata": {},
   "outputs": [
    {
     "data": {
      "text/plain": [
       "[<matplotlib.lines.Line2D at 0x1f05fd74e88>]"
      ]
     },
     "execution_count": 18,
     "metadata": {},
     "output_type": "execute_result"
    },
    {
     "data": {
      "image/png": "[encoded data removed]",
      "text/plain": [
       "<Figure size 432x288 with 1 Axes>"
      ]
     },
     "metadata": {
      "needs_background": "light"
     },
     "output_type": "display_data"
    }
   ],
   "source": [
    "max_leaf_nodes = range(450,471)\n",
    "acc = []\n",
    "\n",
    "for n in max_leaf_nodes:\n",
    "    rf_clf = RandomForestClassifier(n_estimators = 100, max_leaf_nodes = n, n_jobs = -1, random_state = 50)\n",
    "    rf_clf.fit(X_train, y_train)\n",
    "\n",
    "    y_pred = rf_clf.predict(X_test)\n",
    "    \n",
    "    acc.append(sklearn.metrics.accuracy_score(y_test, y_pred))\n",
    "\n",
    "plt.title('Impact of max_leaf_nodes on accuracy for random forest classifer')\n",
    "plt.xlabel('max_leaf_nodes', fontsize=14)\n",
    "plt.ylabel('accuracy', fontsize=14)\n",
    "plt.plot(max_leaf_nodes, acc)"
   ]
  },
  {
   "cell_type": "code",
   "execution_count": 19,
   "metadata": {},
   "outputs": [
    {
     "data": {
      "text/plain": [
       "[<matplotlib.lines.Line2D at 0x1f06170c748>]"
      ]
     },
     "execution_count": 19,
     "metadata": {},
     "output_type": "execute_result"
    },
    {
     "data": {
      "image/png": "[encoded data removed]",
      "text/plain": [
       "<Figure size 432x288 with 1 Axes>"
      ]
     },
     "metadata": {
      "needs_background": "light"
     },
     "output_type": "display_data"
    }
   ],
   "source": [
    "# Plot-2 code here\n",
    "c_list = range(1,31)\n",
    "acc = []\n",
    "\n",
    "for c in c_list:\n",
    "    SVMClassifier = svm.SVC(kernel='rbf', gamma=10, C=c)\n",
    "    SVMClassifier.fit(X_train, y_train)\n",
    "\n",
    "    y_pred = SVMClassifier.predict(X_test)\n",
    "\n",
    "    acc.append(sklearn.metrics.accuracy_score(y_test, y_pred))\n",
    "\n",
    "plt.title('Impact of C on accuracy for rbf svm classifier')\n",
    "plt.xlabel('C', fontsize=14)\n",
    "plt.ylabel('accuracy', fontsize=14)\n",
    "plt.plot(c_list, acc)"
   ]
  },
  {
   "cell_type": "markdown",
   "metadata": {},
   "source": [
    "## Discussion"
   ]
  },
  {
   "cell_type": "markdown",
   "metadata": {},
   "source": [
    "The best model I was able to produce for this problem was a random forest classifier that acheived approximately 45% accuracy. This is not terrible considering there were 14 classes, meaning random guessing would give 1/14 or approximately 7% accuracy, but it is still not a great result. A lot of the data in the survey was probably not strongly related to the target. Taking a look at the importance of features for the decision tree we can see that the most important features generally involved which heroes people wanted or which banners they had summoned from. The most important variable by far, at 7%, asked if the person had spent money on one particular banner. It is unsurprising to see that one have a high influence on the target. The less important features tended to be questions about people's opinions of things in game. It is worth noting that age was closer to the top (more important) of the list and gender closer to the bottom.\n",
    "\n",
    "I also took a look at the predictions given by each model on the test set for the best performing model of each type. The best performing SVM classifer decided that it would do pretty well by just handing out 6's to everyone. 6 is the label that corresponds to \"Free to Play\", meaning people who don't spend money on the game. This was effective because the majority of the player base IS \"Free to Play\" so I guess the model picked up on that. It managed to get 42% accuracy with that strategy. The random forest model actually guessed other things, which is good, but it still only raised it's accuracy by 3% compared to the SVM model.\n",
    "\n",
    "The neural network model did not work out. I tried a few variations on a 4 layer model (including changing number of neurons and activation functions, but I only left changing the optimizer in the notebook) but could not get any results. Most of the time the model initialized weights that gave 0 accuracy or the accuracy soon dropped to 0 during training. Using the adadelta optimizer I was sometimes able to get loss that decreased during training, but all other times it just rose uncontrollably.\n",
    "\n",
    "For my plots I tracked the effect of max_leaf_nodes on the random forest model's accuracy and the effect of changing C in the SVM model. I noticed that increasing the max_leaf_nodes had a good effect in testing and it turned out that it was optimal in my model to raise them rather high compared to where I started. Changing c in the SVM model actually had no effect at all. That in conjunction with the \"poly\" SVM performing the worst of all the SVM models leads me to believe the data overall had a pretty simple or almost linear pattern.\n",
    "\n",
    "In conclusion, for detecting individuals who are likely to spend excessive money on a gacha game, it is probably best to gather other data than just surveying people about their opinions on the game. Data on other spending habits and other demographic data that was not addressed in the survey used here would likely be particularly beneficial."
   ]
  },
  {
   "cell_type": "markdown",
   "metadata": {},
   "source": [
    "## Grading"
   ]
  },
  {
   "cell_type": "markdown",
   "metadata": {},
   "source": [
    "Project grading rubric (total 100 points - 20% of the final grade):\n",
    "\n",
    "- Project proposal: 10 points\n",
    "\n",
    "- Final submission: 70 points - Breakdown as follows\n",
    "\n",
    "    - 30 points: Methods, hyperparameter tuning and comparison table\n",
    "    \n",
    "    - 20 points: Plots\n",
    "\n",
    "    - 20 points: Discussion (2 paragraphs)\n",
    "    \n",
    "- Project complexity and intellectual efforts judged by the instructor: 20 points\n",
    "    \n",
    "<b>Notice:</b> similar to the assignments, up to 10 points may be deducted if your notebook is not easy to read and/or has spelling/grammatical errors, so proofread your notebook!"
   ]
  },
  {
   "cell_type": "markdown",
   "metadata": {},
   "source": [
    "## How to Submit and Due Date - Late Penalty Will be Strictly Applied!"
   ]
  },
  {
   "cell_type": "markdown",
   "metadata": {},
   "source": [
    "Name your final project notebook ```Lastname-Project.ipynb```. Submit the notebook file with your dataset file in a zip file named EXACTLY as `Lastname-Project.zip` using the ```Final Project``` link on Blackboard. For groups, only one submission is required.\n",
    "\n",
    "<font color=red><b>Project Final Submission Due Date: Monday Dec 9th 11:59PM.</b></font>"
   ]
  }
 ],
 "metadata": {
  "kernelspec": {
   "display_name": "Python 3",
   "language": "python",
   "name": "python3"
  },
  "language_info": {
   "codemirror_mode": {
    "name": "ipython",
    "version": 3
   },
   "file_extension": ".py",
   "mimetype": "text/x-python",
   "name": "python",
   "nbconvert_exporter": "python",
   "pygments_lexer": "ipython3",
   "version": "3.7.5"
  }
 },
 "nbformat": 4,
 "nbformat_minor": 2
}
